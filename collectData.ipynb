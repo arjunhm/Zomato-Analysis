{
 "cells": [
  {
   "cell_type": "markdown",
   "metadata": {},
   "source": [
    "## Dependencies"
   ]
  },
  {
   "cell_type": "code",
   "execution_count": null,
   "metadata": {
    "collapsed": true
   },
   "outputs": [],
   "source": [
    "# For collecting data from Zomato API\n",
    "import requests\n",
    "import urllib.parse as up\n",
    "import json\n",
    "\n",
    "# For Threading\n",
    "import threading\n",
    "\n",
    "# For writing data into .csv file\n",
    "import pandas as pd"
   ]
  },
  {
   "cell_type": "markdown",
   "metadata": {},
   "source": [
    "## Functions"
   ]
  },
  {
   "cell_type": "code",
   "execution_count": null,
   "metadata": {
    "collapsed": true
   },
   "outputs": [],
   "source": [
    "def tryJson(site):\n",
    "    '''\n",
    "    param: response object\n",
    "    return: json object\n",
    "    '''\n",
    "    try:\n",
    "        js = json.loads(site.content.decode('utf-8'))\n",
    "    except:\n",
    "        js = None\n",
    "    return js\n",
    "\n",
    "\n",
    "def getDetailsFromLocation(loc_name):\n",
    "    '''\n",
    "    param: String containing location\n",
    "    \n",
    "    Creates URL with location name as parameter and retrieves response object\n",
    "    Converts repsonse object to JSON object and collects data\n",
    "    \n",
    "    return: Entity ID, Entity Type, Latitude, Longitude of location\n",
    "    '''\n",
    "    loc_query = up.urlencode({'query': loc_name})\n",
    "\n",
    "    url = base_url + services['loc'] + '?'\n",
    "    url += api_header + '&' + loc_query\n",
    "    \n",
    "    site = requests.get(url)\n",
    "    js = tryJson(site)\n",
    "\n",
    "    city_name = js['location_suggestions'][0]['city_name']\n",
    "    city_id = js['location_suggestions'][0]['city_id']\n",
    "    entity_id = js['location_suggestions'][0]['entity_id']\n",
    "    entity_type = js['location_suggestions'][0]['entity_type']\n",
    "    lat = js['location_suggestions'][0]['latitude']\n",
    "    long = js['location_suggestions'][0]['longitude']\n",
    "    \n",
    "    return entity_id, entity_type, lat, long    \n",
    "\n",
    "\n",
    "def getRestaurantData(res_url):\n",
    "    '''\n",
    "    param: URL containing containing restaurant ID\n",
    "    \n",
    "    Passes URL and retrieves response object\n",
    "    Converts repsonse object to JSON object and collects data\n",
    "    \n",
    "    return: Dictionary containing restaurant data\n",
    "    '''\n",
    "    site = requests.get(res_url)\n",
    "    js = tryJson(site)\n",
    "\n",
    "    if not js is None:\n",
    "        res_data_dict = dict()\n",
    "        res_data_dict['name'] = js['name']\n",
    "        res_data_dict['id'] = js['R']['res_id']\n",
    "        res_data_dict['url'] = js['url']\n",
    "        res_data_dict['location'] = js['location']['address']\n",
    "        res_data_dict['latitude'] = js['location']['latitude']\n",
    "        res_data_dict['longitude'] = js['location']['longitude']\n",
    "        res_data_dict['cuisines'] = js['cuisines']\n",
    "        res_data_dict['average_cost_for_two'] = js['average_cost_for_two']\n",
    "        res_data_dict['price_range'] = js['price_range']\n",
    "        res_data_dict['user_rating'] = js['user_rating']['aggregate_rating']\n",
    "        \n",
    "    return res_data_dict\n",
    "\n",
    "\n",
    "# removed search_query as parameter\n",
    "def requestData(entity_id, entity_type, start, sort, order, printData = True):\n",
    "    '''\n",
    "    params: start index, entity ID, entity type\n",
    "    \n",
    "    Takes input parameters from user and creates URL\n",
    "    Retrieves response object and converts it into JSON object\n",
    "    Retrieves restaurant ID from JSON object\n",
    "    Appends restaurant IDs to an array\n",
    "    \n",
    "    return: None\n",
    "    '''\n",
    "    search_query = dict()\n",
    "    \n",
    "    # location id\n",
    "    search_query['entity_id'] = entity_id\n",
    "    \n",
    "    # location type\n",
    "    search_query['entity_type'] = entity_type\n",
    "    \n",
    "    # fetch results after offset\n",
    "    search_query['start'] = start    \n",
    "    \n",
    "    # max number of results to display\n",
    "    search_query['count'] = count  # input('Enter integer (1 - 20): ')\n",
    "    \n",
    "    # sort restaurants by \n",
    "    search_query['sort'] = sort    # input('rating/cost/real_distance: ')\n",
    "    \n",
    "    # used with 'sort' parameter to define ascending / descending\n",
    "    search_query['order'] = order    # input('asc/desc: ')\n",
    "\n",
    "    search_query = up.urlencode(search_query)\n",
    "\n",
    "    search_url = base_url + services['search'] + '?'\n",
    "    search_url += api_header + '&' + search_query\n",
    "\n",
    "    site = requests.get(search_url)\n",
    "    js = tryJson(site)\n",
    "\n",
    "    if js['results_found'] > 0:\n",
    "\n",
    "        for x in js['restaurants']:\n",
    "            res_name = x['restaurant']['name']\n",
    "            res_id = x['restaurant']['R']['res_id']\n",
    "            \n",
    "            if res_id not in df_id_arr:    # Eliminates redundant data by comparing with DataFrame\n",
    "                res_id_arr.append(res_id)\n",
    "                if printData:\n",
    "                    print(res_id, '\\t', res_name)\n",
    "    else:\n",
    "        print(\"No restaurants found\")\n",
    "        "
   ]
  },
  {
   "cell_type": "code",
   "execution_count": null,
   "metadata": {
    "collapsed": true
   },
   "outputs": [],
   "source": [
    "'''\n",
    "Your API Key goes here. You can request one at https://developers.zomato.com/api \n",
    "''' \n",
    "API_KEY = 'abcde12345'\n",
    "api_header = up.urlencode({'apikey': API_KEY})\n",
    "\n",
    "services = {'loc': 'locations',\n",
    "           'loc_det': 'location_details',\n",
    "           'res': 'restaurant',\n",
    "           'cuis': 'cuisines',\n",
    "           'search': 'search'}\n",
    "\n",
    "base_url = 'https://developers.zomato.com/api/v2.1/'"
   ]
  },
  {
   "cell_type": "markdown",
   "metadata": {},
   "source": [
    "# Collecting data"
   ]
  },
  {
   "cell_type": "markdown",
   "metadata": {},
   "source": [
    "### Create DataFrame from existing .csv file"
   ]
  },
  {
   "cell_type": "code",
   "execution_count": null,
   "metadata": {
    "collapsed": true
   },
   "outputs": [],
   "source": [
    "filename = 'Data/tomato_data.csv'"
   ]
  },
  {
   "cell_type": "code",
   "execution_count": null,
   "metadata": {},
   "outputs": [],
   "source": [
    "csv_df = pd.read_csv(filename, encoding = 'utf-8')\n",
    "df_id_arr = list(csv_df['id'])\n",
    "print(\"No of restuarants in .csv file:\", len(df_id_arr))\n",
    "csv_df.tail()"
   ]
  },
  {
   "cell_type": "code",
   "execution_count": null,
   "metadata": {
    "collapsed": true
   },
   "outputs": [],
   "source": [
    "res_id_arr = []    # Holds restuarant IDs"
   ]
  },
  {
   "cell_type": "markdown",
   "metadata": {},
   "source": [
    "### Collect Restaurant ID"
   ]
  },
  {
   "cell_type": "code",
   "execution_count": null,
   "metadata": {},
   "outputs": [],
   "source": [
    "# Enter location name\n",
    "loc_name = input() \n",
    "\n",
    "entity_id, entity_type, lat, long = getDetailsFromLocation(loc_name)\n",
    "\n",
    "sort = input('Sort: rating/cost/real_distance: ')    # sort\n",
    "order = input('Order: asc/desc: ')                   # desc0\n",
    "printData = True    # Option to print restaurant ID, name\n",
    "\n",
    "for x in range(0, 100, 20):\n",
    "    print(\"*****\", x, \"*****\")\n",
    "    requestData(entity_id, entity_type, x, sort, order, printData)"
   ]
  },
  {
   "cell_type": "code",
   "execution_count": null,
   "metadata": {
    "collapsed": true
   },
   "outputs": [],
   "source": [
    "print('Number of restaurants:', len(res_id_arr))"
   ]
  },
  {
   "cell_type": "markdown",
   "metadata": {},
   "source": [
    "### Collect Restaurant data from ID"
   ]
  },
  {
   "cell_type": "code",
   "execution_count": null,
   "metadata": {
    "collapsed": true
   },
   "outputs": [],
   "source": [
    "res_url = base_url + services['res'] + '?'\n",
    "res_data_arr = []\n",
    "\n",
    "first = len(res_id_arr) // 3    # 1/3 of array\n",
    "second = (len(res_id_arr) - first) // 2    # 2/3 of array\n",
    "third = len(res_id_arr) - second    # 3/3 of array\n",
    "\n",
    "def collectDataFirst(first):\n",
    "    res_url = base_url + services['res'] + '?'\n",
    "    j = 0\n",
    "    for res_id in res_id_arr[: first]:\n",
    "        print(j, 'Collecting data for res_id: ', res_id)\n",
    "        res_url += api_header + '&' + up.urlencode({'res_id': res_id})\n",
    "        res_data = getRestaurantData(res_url)\n",
    "        res_data_arr.append(res_data)\n",
    "        j += 1\n",
    "\n",
    "        \n",
    "def collectDataSecond(second):\n",
    "    res_url = base_url + services['res'] + '?'\n",
    "    j = second\n",
    "    for res_id in res_id_arr[second: third]:\n",
    "        print(j, 'Collecting data for res_id: ', res_id)\n",
    "        res_url += api_header + '&' + up.urlencode({'res_id': res_id})\n",
    "        res_data = getRestaurantData(res_url)\n",
    "        res_data_arr.append(res_data)\n",
    "        j += 1        \n",
    "\n",
    "        \n",
    "def collectDataThird(third):\n",
    "    res_url = base_url + services['res'] + '?'\n",
    "    j = third\n",
    "    for res_id in res_id_arr[third: ]:\n",
    "        print(j, 'Collecting data for res_id: ', res_id)\n",
    "        res_url += api_header + '&' + up.urlencode({'res_id': res_id})\n",
    "        res_data = getRestaurantData(res_url)\n",
    "        res_data_arr.append(res_data)\n",
    "        j += 1   \n"
   ]
  },
  {
   "cell_type": "markdown",
   "metadata": {},
   "source": [
    "### Threading to improve performance"
   ]
  },
  {
   "cell_type": "code",
   "execution_count": null,
   "metadata": {
    "collapsed": true
   },
   "outputs": [],
   "source": [
    "%%time\n",
    "\n",
    "t1 = threading.Thread(target = collectDataFirst, args = (first,)) \n",
    "t2 = threading.Thread(target = collectDataSecond, args = (second, )) \n",
    "t3 = threading.Thread(target = collectDataThird, args = (third,))\n",
    "\n",
    "t1.start()\n",
    "t2.start()\n",
    "t3.start()\n",
    "\n",
    "t1.join()\n",
    "t2.join()\n",
    "t3.join()"
   ]
  },
  {
   "cell_type": "markdown",
   "metadata": {},
   "source": [
    "### Create DataFrame to be added to .csv file"
   ]
  },
  {
   "cell_type": "code",
   "execution_count": null,
   "metadata": {
    "collapsed": true
   },
   "outputs": [],
   "source": [
    "df_name = []\n",
    "df_id = []\n",
    "df_location = []\n",
    "df_cuisines = []\n",
    "df_avg_cost = []\n",
    "df_price_range = []\n",
    "df_rating = []"
   ]
  },
  {
   "cell_type": "code",
   "execution_count": null,
   "metadata": {
    "collapsed": true
   },
   "outputs": [],
   "source": [
    "for restaurant in res_data_arr:\n",
    "    \n",
    "    df_name.append(restaurant['name'])\n",
    "    df_id.append(restaurant['id'])\n",
    "    df_location.append(restaurant['location'])\n",
    "    df_cuisines.append(restaurant['cuisines'])\n",
    "    df_avg_cost.append(restaurant['average_cost_for_two'])\n",
    "    df_price_range.append(restaurant['price_range'])\n",
    "    df_rating.append(restaurant['user_rating'])\n",
    "    \n",
    "    '''\n",
    "    for detail in restaurant:\n",
    "        print('{}: {}'.format(detail, restaurant[detail]))\n",
    "    print('\\n' * 2)\n",
    "    '''"
   ]
  },
  {
   "cell_type": "code",
   "execution_count": null,
   "metadata": {
    "collapsed": true
   },
   "outputs": [],
   "source": [
    "df = pd.DataFrame({'id': df_id, \n",
    "                   'name': df_name,\n",
    "                  'location': df_location,\n",
    "                  'cuisines': df_cuisines,\n",
    "                  'avg_cost': df_avg_cost,\n",
    "                  'price_range': df_price_range,\n",
    "                  'rating': df_rating})"
   ]
  },
  {
   "cell_type": "code",
   "execution_count": null,
   "metadata": {
    "collapsed": true
   },
   "outputs": [],
   "source": [
    "df.tail()"
   ]
  },
  {
   "cell_type": "markdown",
   "metadata": {},
   "source": [
    "### Write DataFrame to .csv file"
   ]
  },
  {
   "cell_type": "code",
   "execution_count": null,
   "metadata": {
    "collapsed": true
   },
   "outputs": [],
   "source": [
    "prevent_from_rewriting = False    # Flag to prevent accidentally rewriting data into .csv file"
   ]
  },
  {
   "cell_type": "code",
   "execution_count": null,
   "metadata": {
    "collapsed": true
   },
   "outputs": [],
   "source": [
    "#df.to_csv('tomato_data.xlsx', header = True, index=False)\n",
    "\n",
    "if prevent_from_rewriting == False:\n",
    "    with open(filename, 'a') as f:\n",
    "        df.to_csv(f, header=False, index = False)\n",
    "else:\n",
    "    print(\"Data has already been written into .csv file\")\n",
    "prevent_from_rewriting = True"
   ]
  }
 ],
 "metadata": {
  "kernelspec": {
   "display_name": "Python 3",
   "language": "python",
   "name": "python3"
  },
  "language_info": {
   "codemirror_mode": {
    "name": "ipython",
    "version": 3
   },
   "file_extension": ".py",
   "mimetype": "text/x-python",
   "name": "python",
   "nbconvert_exporter": "python",
   "pygments_lexer": "ipython3",
   "version": "3.6.3"
  }
 },
 "nbformat": 4,
 "nbformat_minor": 2
}
