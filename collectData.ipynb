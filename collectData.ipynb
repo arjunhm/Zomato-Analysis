{
 "cells": [
  {
   "cell_type": "markdown",
   "metadata": {},
   "source": [
    "## Dependencies"
   ]
  },
  {
   "cell_type": "code",
   "execution_count": null,
   "metadata": {
    "collapsed": true
   },
   "outputs": [],
   "source": [
    "# For collecting data from Zomato API\n",
    "import requests\n",
    "import urllib.parse as up\n",
    "import json\n",
    "\n",
    "# For Threading\n",
    "import threading\n",
    "\n",
    "# For writing data into .csv file\n",
    "import pandas as pd"
   ]
  },
  {
   "cell_type": "markdown",
   "metadata": {},
   "source": [
    "## Functions"
   ]
  },
  {
   "cell_type": "code",
   "execution_count": 131,
   "metadata": {
    "collapsed": true
   },
   "outputs": [],
   "source": [
    "def tryJson(site):\n",
    "    '''\n",
    "    param: response object\n",
    "    return: json object\n",
    "    '''\n",
    "    try:\n",
    "        js = json.loads(site.content.decode('utf-8'))\n",
    "    except:\n",
    "        js = None\n",
    "    return js\n",
    "\n",
    "\n",
    "def getDetailsFromLocation(loc_name):\n",
    "    '''\n",
    "    param: String containing location\n",
    "    \n",
    "    Creates URL with location name as parameter and retrieves response object\n",
    "    Converts repsonse object to JSON object and collects data\n",
    "    \n",
    "    return: Entity ID, Entity Type, Latitude, Longitude of location\n",
    "    '''\n",
    "    loc_query = up.urlencode({'query': loc_name})\n",
    "\n",
    "    url = base_url + services['loc'] + '?'\n",
    "    url += api_header + '&' + loc_query\n",
    "    \n",
    "    site = requests.get(url)\n",
    "    js = tryJson(site)\n",
    "\n",
    "    city_name = js['location_suggestions'][0]['city_name']\n",
    "    city_id = js['location_suggestions'][0]['city_id']\n",
    "    entity_id = js['location_suggestions'][0]['entity_id']\n",
    "    entity_type = js['location_suggestions'][0]['entity_type']\n",
    "    lat = js['location_suggestions'][0]['latitude']\n",
    "    long = js['location_suggestions'][0]['longitude']\n",
    "    \n",
    "    return entity_id, entity_type, lat, long    \n",
    "\n",
    "\n",
    "def getRestaurantData(res_url):\n",
    "    '''\n",
    "    param: URL containing containing restaurant ID\n",
    "    \n",
    "    Passes URL and retrieves response object\n",
    "    Converts repsonse object to JSON object and collects data\n",
    "    \n",
    "    return: Dictionary containing restaurant data\n",
    "    '''\n",
    "    site = requests.get(res_url)\n",
    "    js = tryJson(site)\n",
    "\n",
    "    if not js is None:\n",
    "        res_data_dict = dict()\n",
    "        res_data_dict['name'] = js['name']\n",
    "        res_data_dict['id'] = js['R']['res_id']\n",
    "        res_data_dict['url'] = js['url']\n",
    "        res_data_dict['location'] = js['location']['address']\n",
    "        res_data_dict['latitude'] = js['location']['latitude']\n",
    "        res_data_dict['longitude'] = js['location']['longitude']\n",
    "        res_data_dict['cuisines'] = js['cuisines']\n",
    "        res_data_dict['average_cost_for_two'] = js['average_cost_for_two']\n",
    "        res_data_dict['price_range'] = js['price_range']\n",
    "        res_data_dict['user_rating'] = js['user_rating']['aggregate_rating']\n",
    "        \n",
    "    return res_data_dict\n",
    "\n",
    "\n",
    "# removed search_query as parameter\n",
    "def scrapeData(entity_id, entity_type, start, sort, order, printData = True):\n",
    "    '''\n",
    "    params: start index, entity ID, entity type\n",
    "    \n",
    "    Takes input parameters from user and creates URL\n",
    "    Retrieves response object and converts it into JSON object\n",
    "    Retrieves restaurant ID from JSON object\n",
    "    Appends restaurant IDs to an array\n",
    "    \n",
    "    return: None\n",
    "    '''\n",
    "    search_query = dict()\n",
    "    \n",
    "    # location id\n",
    "    search_query['entity_id'] = entity_id\n",
    "    \n",
    "    # location type\n",
    "    search_query['entity_type'] = entity_type\n",
    "    \n",
    "    # fetch results after offset\n",
    "    search_query['start'] = start    \n",
    "    \n",
    "    # max number of results to display\n",
    "    search_query['count'] = 20  # input('Enter integer (1 - 20): ')\n",
    "    \n",
    "    # sort restaurants by \n",
    "    search_query['sort'] = sort    # input('rating/cost/real_distance: ')\n",
    "    \n",
    "    # used with 'sort' parameter to define ascending / descending\n",
    "    search_query['order'] = order    # input('asc/desc: ')\n",
    "\n",
    "    search_query = up.urlencode(search_query)\n",
    "\n",
    "    search_url = base_url + services['search'] + '?'\n",
    "    search_url += api_header + '&' + search_query\n",
    "\n",
    "    site = requests.get(search_url)\n",
    "    js = tryJson(site)\n",
    "\n",
    "    if js['results_found'] > 0:\n",
    "\n",
    "        for x in js['restaurants']:\n",
    "            res_name = x['restaurant']['name']\n",
    "            res_id = x['restaurant']['R']['res_id']\n",
    "            \n",
    "            if res_id not in df_id_arr:    # Eliminates redundant data by comparing with DataFrame\n",
    "                res_id_arr.append(res_id)\n",
    "                if printData:\n",
    "                    print(res_id, '\\t', res_name)\n",
    "    else:\n",
    "        print(\"No restaurants found\")\n",
    "        "
   ]
  },
  {
   "cell_type": "code",
   "execution_count": 126,
   "metadata": {
    "collapsed": true
   },
   "outputs": [],
   "source": [
    "'''\n",
    "Your API Key goes here. You can request one at https://developers.zomato.com/api \n",
    "''' \n",
    "API_KEY = 'abcde12345'\n",
    "api_header = up.urlencode({'apikey': API_KEY})\n",
    "\n",
    "services = {'loc': 'locations',\n",
    "           'loc_det': 'location_details',\n",
    "           'res': 'restaurant',\n",
    "           'cuis': 'cuisines',\n",
    "           'search': 'search'}\n",
    "\n",
    "base_url = 'https://developers.zomato.com/api/v2.1/'"
   ]
  },
  {
   "cell_type": "markdown",
   "metadata": {},
   "source": [
    "# Collecting data"
   ]
  },
  {
   "cell_type": "markdown",
   "metadata": {},
   "source": [
    "### Create DataFrame from existing .csv file"
   ]
  },
  {
   "cell_type": "code",
   "execution_count": 127,
   "metadata": {
    "collapsed": true
   },
   "outputs": [],
   "source": [
    "filename = 'tomato_data.csv'"
   ]
  },
  {
   "cell_type": "code",
   "execution_count": 128,
   "metadata": {},
   "outputs": [
    {
     "name": "stdout",
     "output_type": "stream",
     "text": [
      "No of restuarants in .csv file: 1585\n"
     ]
    },
    {
     "data": {
      "text/html": [
       "<div>\n",
       "<style>\n",
       "    .dataframe thead tr:only-child th {\n",
       "        text-align: right;\n",
       "    }\n",
       "\n",
       "    .dataframe thead th {\n",
       "        text-align: left;\n",
       "    }\n",
       "\n",
       "    .dataframe tbody tr th {\n",
       "        vertical-align: top;\n",
       "    }\n",
       "</style>\n",
       "<table border=\"1\" class=\"dataframe\">\n",
       "  <thead>\n",
       "    <tr style=\"text-align: right;\">\n",
       "      <th></th>\n",
       "      <th>avg_cost</th>\n",
       "      <th>cuisines</th>\n",
       "      <th>id</th>\n",
       "      <th>location</th>\n",
       "      <th>name</th>\n",
       "      <th>price_range</th>\n",
       "      <th>rating</th>\n",
       "    </tr>\n",
       "  </thead>\n",
       "  <tbody>\n",
       "    <tr>\n",
       "      <th>1580</th>\n",
       "      <td>500</td>\n",
       "      <td>Desserts</td>\n",
       "      <td>18664737</td>\n",
       "      <td>17,17/1, Ground Floor, Madhavanagar Extension,...</td>\n",
       "      <td>Cinnamon - Renaissance Hotel, Bengaluru</td>\n",
       "      <td>2</td>\n",
       "      <td>4.3</td>\n",
       "    </tr>\n",
       "    <tr>\n",
       "      <th>1581</th>\n",
       "      <td>1200</td>\n",
       "      <td>Mediterranean, BBQ</td>\n",
       "      <td>59858</td>\n",
       "      <td>Fairfield by Marriott, 59th C Cross, 4th M Blo...</td>\n",
       "      <td>White Smoke Barbeque- Fairfield by Marriott</td>\n",
       "      <td>3</td>\n",
       "      <td>4.0</td>\n",
       "    </tr>\n",
       "    <tr>\n",
       "      <th>1582</th>\n",
       "      <td>150</td>\n",
       "      <td>Ice Cream, Desserts</td>\n",
       "      <td>52413</td>\n",
       "      <td>48, 1st Main Road, 2nd Block, Near Gangadham, ...</td>\n",
       "      <td>Natural Ice Cream</td>\n",
       "      <td>1</td>\n",
       "      <td>4.1</td>\n",
       "    </tr>\n",
       "    <tr>\n",
       "      <th>1583</th>\n",
       "      <td>700</td>\n",
       "      <td>Desserts, North Indian, Chinese</td>\n",
       "      <td>18275010</td>\n",
       "      <td>52, 50th Cross, 3rd block, Near Bashyam Circle...</td>\n",
       "      <td>Asha Food Camp</td>\n",
       "      <td>2</td>\n",
       "      <td>4.0</td>\n",
       "    </tr>\n",
       "    <tr>\n",
       "      <th>1584</th>\n",
       "      <td>250</td>\n",
       "      <td>Mithai</td>\n",
       "      <td>59227</td>\n",
       "      <td>131, 8th Cross, Sampige Road, Malleshwaram, Ba...</td>\n",
       "      <td>Asha Sweets Centre</td>\n",
       "      <td>1</td>\n",
       "      <td>4.3</td>\n",
       "    </tr>\n",
       "  </tbody>\n",
       "</table>\n",
       "</div>"
      ],
      "text/plain": [
       "      avg_cost                         cuisines        id  \\\n",
       "1580       500                         Desserts  18664737   \n",
       "1581      1200               Mediterranean, BBQ     59858   \n",
       "1582       150              Ice Cream, Desserts     52413   \n",
       "1583       700  Desserts, North Indian, Chinese  18275010   \n",
       "1584       250                           Mithai     59227   \n",
       "\n",
       "                                               location  \\\n",
       "1580  17,17/1, Ground Floor, Madhavanagar Extension,...   \n",
       "1581  Fairfield by Marriott, 59th C Cross, 4th M Blo...   \n",
       "1582  48, 1st Main Road, 2nd Block, Near Gangadham, ...   \n",
       "1583  52, 50th Cross, 3rd block, Near Bashyam Circle...   \n",
       "1584  131, 8th Cross, Sampige Road, Malleshwaram, Ba...   \n",
       "\n",
       "                                             name  price_range  rating  \n",
       "1580      Cinnamon - Renaissance Hotel, Bengaluru            2     4.3  \n",
       "1581  White Smoke Barbeque- Fairfield by Marriott            3     4.0  \n",
       "1582                            Natural Ice Cream            1     4.1  \n",
       "1583                               Asha Food Camp            2     4.0  \n",
       "1584                           Asha Sweets Centre            1     4.3  "
      ]
     },
     "execution_count": 128,
     "metadata": {},
     "output_type": "execute_result"
    }
   ],
   "source": [
    "csv_df = pd.read_csv(filename, encoding = 'utf-8')\n",
    "df_id_arr = list(csv_df['id'])\n",
    "print(\"No of restuarants in .csv file:\", len(df_id_arr))\n",
    "csv_df.tail()"
   ]
  },
  {
   "cell_type": "code",
   "execution_count": 129,
   "metadata": {
    "collapsed": true
   },
   "outputs": [],
   "source": [
    "res_id_arr = []    # Holds restuarant IDs"
   ]
  },
  {
   "cell_type": "markdown",
   "metadata": {},
   "source": [
    "### Collect Restaurant ID"
   ]
  },
  {
   "cell_type": "code",
   "execution_count": 130,
   "metadata": {},
   "outputs": [
    {
     "name": "stdout",
     "output_type": "stream",
     "text": [
      "hi\n",
      "Possible errors\n",
      "1. Invalid API Key\n",
      "2. Exceeded daily limit usage\n"
     ]
    },
    {
     "ename": "TypeError",
     "evalue": "'NoneType' object is not iterable",
     "output_type": "error",
     "traceback": [
      "\u001b[1;31m---------------------------------------------------------------------------\u001b[0m",
      "\u001b[1;31mTypeError\u001b[0m                                 Traceback (most recent call last)",
      "\u001b[1;32m<ipython-input-130-811224567a3c>\u001b[0m in \u001b[0;36m<module>\u001b[1;34m()\u001b[0m\n\u001b[0;32m      2\u001b[0m \u001b[0mloc_name\u001b[0m \u001b[1;33m=\u001b[0m \u001b[0minput\u001b[0m\u001b[1;33m(\u001b[0m\u001b[1;33m)\u001b[0m\u001b[1;33m\u001b[0m\u001b[0m\n\u001b[0;32m      3\u001b[0m \u001b[1;33m\u001b[0m\u001b[0m\n\u001b[1;32m----> 4\u001b[1;33m \u001b[0mentity_id\u001b[0m\u001b[1;33m,\u001b[0m \u001b[0mentity_type\u001b[0m\u001b[1;33m,\u001b[0m \u001b[0mlat\u001b[0m\u001b[1;33m,\u001b[0m \u001b[0mlong\u001b[0m \u001b[1;33m=\u001b[0m \u001b[0mgetDetailsFromLocation\u001b[0m\u001b[1;33m(\u001b[0m\u001b[0mloc_name\u001b[0m\u001b[1;33m)\u001b[0m\u001b[1;33m\u001b[0m\u001b[0m\n\u001b[0m\u001b[0;32m      5\u001b[0m \u001b[1;33m\u001b[0m\u001b[0m\n\u001b[0;32m      6\u001b[0m \u001b[0msort\u001b[0m \u001b[1;33m=\u001b[0m \u001b[1;34m'rating'\u001b[0m    \u001b[1;31m# input('rating/cost/real_distance: ')\u001b[0m\u001b[1;33m\u001b[0m\u001b[0m\n",
      "\u001b[1;31mTypeError\u001b[0m: 'NoneType' object is not iterable"
     ]
    }
   ],
   "source": [
    "# Enter location name\n",
    "loc_name = input() \n",
    "\n",
    "entity_id, entity_type, lat, long = getDetailsFromLocation(loc_name)\n",
    "\n",
    "sort = 'rating'    # input('rating/cost/real_distance: ')\n",
    "order = 'desc'    # input('asc/desc: ')    \n",
    "printData = True    # Option to print restaurant ID, name\n",
    "\n",
    "for x in range(0, 100, 20):\n",
    "    print(\"*****\", x, \"*****\")\n",
    "    requestData(entity_id, entity_type, x, sort, order, printData)"
   ]
  },
  {
   "cell_type": "code",
   "execution_count": null,
   "metadata": {},
   "outputs": [],
   "source": [
    "print('Number of restaurants:', len(res_id_arr))"
   ]
  },
  {
   "cell_type": "markdown",
   "metadata": {},
   "source": [
    "### Collect Restaurant data from ID"
   ]
  },
  {
   "cell_type": "code",
   "execution_count": null,
   "metadata": {
    "collapsed": true
   },
   "outputs": [],
   "source": [
    "res_url = base_url + services['res'] + '?'\n",
    "res_data_arr = []\n",
    "\n",
    "first = len(res_id_arr) // 3    # 1/3 of array\n",
    "second = (len(res_id_arr) - first) // 2    # 2/3 of array\n",
    "third = len(res_id_arr) - second    # 3/3 of array\n",
    "\n",
    "def collectDataFirst(first):\n",
    "    res_url = base_url + services['res'] + '?'\n",
    "    j = 0\n",
    "    for res_id in res_id_arr[: first]:\n",
    "        print(j, 'Collecting data for res_id: ', res_id)\n",
    "        res_url += api_header + '&' + up.urlencode({'res_id': res_id})\n",
    "        res_data = getRestaurantData(res_url)\n",
    "        res_data_arr.append(res_data)\n",
    "        j += 1\n",
    "\n",
    "        \n",
    "def collectDataSecond(second):\n",
    "    res_url = base_url + services['res'] + '?'\n",
    "    j = second\n",
    "    for res_id in res_id_arr[second: third]:\n",
    "        print(j, 'Collecting data for res_id: ', res_id)\n",
    "        res_url += api_header + '&' + up.urlencode({'res_id': res_id})\n",
    "        res_data = getRestaurantData(res_url)\n",
    "        res_data_arr.append(res_data)\n",
    "        j += 1        \n",
    "\n",
    "        \n",
    "def collectDataThird(third):\n",
    "    res_url = base_url + services['res'] + '?'\n",
    "    j = third\n",
    "    for res_id in res_id_arr[third: ]:\n",
    "        print(j, 'Collecting data for res_id: ', res_id)\n",
    "        res_url += api_header + '&' + up.urlencode({'res_id': res_id})\n",
    "        res_data = getRestaurantData(res_url)\n",
    "        res_data_arr.append(res_data)\n",
    "        j += 1   \n"
   ]
  },
  {
   "cell_type": "markdown",
   "metadata": {},
   "source": [
    "### Threading to improve performance"
   ]
  },
  {
   "cell_type": "code",
   "execution_count": null,
   "metadata": {},
   "outputs": [],
   "source": [
    "%%time\n",
    "\n",
    "t1 = threading.Thread(target = collectDataFirst, args = (first,)) \n",
    "t2 = threading.Thread(target = collectDataSecond, args = (second, )) \n",
    "t3 = threading.Thread(target = collectDataThird, args = (third,))\n",
    "\n",
    "t1.start()\n",
    "t2.start()\n",
    "t3.start()\n",
    "\n",
    "t1.join()\n",
    "t2.join()\n",
    "t3.join()"
   ]
  },
  {
   "cell_type": "markdown",
   "metadata": {},
   "source": [
    "### Create DataFrame to be added to .csv file"
   ]
  },
  {
   "cell_type": "code",
   "execution_count": null,
   "metadata": {
    "collapsed": true
   },
   "outputs": [],
   "source": [
    "df_name = []\n",
    "df_id = []\n",
    "df_location = []\n",
    "df_cuisines = []\n",
    "df_avg_cost = []\n",
    "df_price_range = []\n",
    "df_rating = []"
   ]
  },
  {
   "cell_type": "code",
   "execution_count": null,
   "metadata": {},
   "outputs": [],
   "source": [
    "for restaurant in res_data_arr:\n",
    "    \n",
    "    df_name.append(restaurant['name'])\n",
    "    df_id.append(restaurant['id'])\n",
    "    df_location.append(restaurant['location'])\n",
    "    df_cuisines.append(restaurant['cuisines'])\n",
    "    df_avg_cost.append(restaurant['average_cost_for_two'])\n",
    "    df_price_range.append(restaurant['price_range'])\n",
    "    df_rating.append(restaurant['user_rating'])\n",
    "    \n",
    "    '''\n",
    "    for detail in restaurant:\n",
    "        print('{}: {}'.format(detail, restaurant[detail]))\n",
    "    print('\\n' * 2)\n",
    "    '''"
   ]
  },
  {
   "cell_type": "code",
   "execution_count": null,
   "metadata": {},
   "outputs": [],
   "source": [
    "df = pd.DataFrame({'id': df_id, \n",
    "                   'name': df_name,\n",
    "                  'location': df_location,\n",
    "                  'cuisines': df_cuisines,\n",
    "                  'avg_cost': df_avg_cost,\n",
    "                  'price_range': df_price_range,\n",
    "                  'rating': df_rating})"
   ]
  },
  {
   "cell_type": "code",
   "execution_count": null,
   "metadata": {},
   "outputs": [],
   "source": [
    "df.tail()"
   ]
  },
  {
   "cell_type": "markdown",
   "metadata": {},
   "source": [
    "### Write DataFrame to .csv file"
   ]
  },
  {
   "cell_type": "code",
   "execution_count": null,
   "metadata": {
    "collapsed": true
   },
   "outputs": [],
   "source": [
    "prevent_from_rewriting = False    # Flag to prevent accidentally rewriting data into .csv file"
   ]
  },
  {
   "cell_type": "code",
   "execution_count": null,
   "metadata": {},
   "outputs": [],
   "source": [
    "#df.to_csv('tomato_data.xlsx', header = True, index=False)\n",
    "\n",
    "if prevent_from_rewriting == False:\n",
    "    with open(filename, 'a') as f:\n",
    "        df.to_csv(f, header=False, index = False)\n",
    "else:\n",
    "    print(\"Data has already been written into .csv file\")\n",
    "prevent_from_rewriting = True"
   ]
  }
 ],
 "metadata": {
  "kernelspec": {
   "display_name": "Python 3",
   "language": "python",
   "name": "python3"
  },
  "language_info": {
   "codemirror_mode": {
    "name": "ipython",
    "version": 3
   },
   "file_extension": ".py",
   "mimetype": "text/x-python",
   "name": "python",
   "nbconvert_exporter": "python",
   "pygments_lexer": "ipython3",
   "version": "3.6.3"
  }
 },
 "nbformat": 4,
 "nbformat_minor": 2
}
